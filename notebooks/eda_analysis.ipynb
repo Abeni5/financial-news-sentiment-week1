{
 "cells": [
  {
   "cell_type": "markdown",
   "metadata": {},
   "source": [
    "# Financial News Sentiment Analysis - EDA\n",
    "\n",
    "## Task 1: Exploratory Data Analysis"
   ]
  },
  {
   "cell_type": "code",
   "execution_count": null,
   "metadata": {},
   "outputs": [],
   "source": [
    "import pandas as pd\n",
    "import numpy as np\n",
    "import matplotlib.pyplot as plt\n",
    "import seaborn as sns\n",
    "from datetime import datetime\n",
    "import nltk\n",
    "from nltk.corpus import stopwords\n",
    "from nltk.tokenize import word_tokenize\n",
    "from collections import Counter\n",
    "\n",
    "# Set plot style\n",
    "sns.set_theme()\n",
    "sns.set_palette('husl')\n",
    "\n",
    "# List of tickers and their file paths\n",
    "tickers = ['AAPL', 'AMZN', 'GOOG', 'NVDA', 'TSLA', 'META']\n",
    "file_paths = [\n",
    "     r'C:\\Users\\hp\\Downloads\\Telegram Desktop\\10Academy-Week1-FNSPID\\data\\AAPL_historical_data.csv',\n",
    "    r'C:\\Users\\hp\\Downloads\\Telegram Desktop\\10Academy-Week1-FNSPID\\data\\AMZN_historical_data.csv',\n",
    "    r'C:\\Users\\hp\\Downloads\\Telegram Desktop\\10Academy-Week1-FNSPID\\data\\GOOG_historical_data.csv',\n",
    "    r'C:\\Users\\hp\\Downloads\\Telegram Desktop\\10Academy-Week1-FNSPID\\data\\META_historical_data.csv',\n",
    "    r'C:\\Users\\hp\\Downloads\\Telegram Desktop\\10Academy-Week1-FNSPID\\data\\NVDA_historical_data.csv',\n",
    "    r'C:\\Users\\hp\\Downloads\\Telegram Desktop\\10Academy-Week1-FNSPID\\data\\TSLA_historical_data.csv'\n",
    "]\n",
    "\n",
    "# Combine all stock data into one DataFrame\n",
    "dfs = []\n",
    "for ticker, path in zip(tickers, file_paths):\n",
    "    temp_df = pd.read_csv(path)\n",
    "    temp_df['ticker'] = ticker\n",
    "    dfs.append(temp_df)\n",
    "\n",
    "df = pd.concat(dfs, ignore_index=True)\n",
    "\n",
    "# Analyst ratings\n",
    "Ddf = pd.read_csv('C:/Users/hp/Downloads/Telegram Desktop/10Academy-Week1-FNSPID/data/raw_analyst_ratings.csv')\n",
    "df.head()"
   ]
  },
  {
   "cell_type": "code",
   "execution_count": 2,
   "metadata": {},
   "outputs": [
    {
     "ename": "NameError",
     "evalue": "name 'df' is not defined",
     "output_type": "error",
     "traceback": [
      "\u001b[31m---------------------------------------------------------------------------\u001b[39m",
      "\u001b[31mNameError\u001b[39m                                 Traceback (most recent call last)",
      "\u001b[36mCell\u001b[39m\u001b[36m \u001b[39m\u001b[32mIn[2]\u001b[39m\u001b[32m, line 1\u001b[39m\n\u001b[32m----> \u001b[39m\u001b[32m1\u001b[39m df[\u001b[33m'\u001b[39m\u001b[33mheadline_length\u001b[39m\u001b[33m'\u001b[39m] = \u001b[43mdf\u001b[49m[\u001b[33m'\u001b[39m\u001b[33mheadline\u001b[39m\u001b[33m'\u001b[39m].str.len()\n\u001b[32m      2\u001b[39m \u001b[38;5;28mprint\u001b[39m(df[\u001b[33m'\u001b[39m\u001b[33mheadline_length\u001b[39m\u001b[33m'\u001b[39m].describe())\n\u001b[32m      3\u001b[39m \u001b[38;5;28mprint\u001b[39m(df[\u001b[33m'\u001b[39m\u001b[33mpublisher\u001b[39m\u001b[33m'\u001b[39m].value_counts())\n",
      "\u001b[31mNameError\u001b[39m: name 'df' is not defined"
     ]
    }
   ],
   "source": [
    "df['headline_length'] = df['headline'].str.len()\n",
    "print(df['headline_length'].describe())\n",
    "print(df['publisher'].value_counts())\n",
    "df['date'] = pd.to_datetime(df['date'])\n",
    "df['date'].value_counts().sort_index().plot()"
   ]
  },
  {
   "cell_type": "code",
   "execution_count": null,
   "metadata": {},
   "outputs": [],
   "source": [
    "df.info()\n",
    "df.head()\n",
    "df['ticker'].value_counts()"
   ]
  },
  {
   "cell_type": "code",
   "execution_count": null,
   "metadata": {},
   "outputs": [],
   "source": [
    "plt.style.use('seaborn-v0_8')"
   ]
  },
  {
   "cell_type": "code",
   "execution_count": null,
   "metadata": {},
   "outputs": [],
   "source": [
    "sns.set_theme()"
   ]
  },
  {
   "cell_type": "code",
   "execution_count": null,
   "metadata": {},
   "outputs": [],
   "source": [
    "# ...existing code...\n",
    "# Set plot style\n",
    "sns.set_theme()\n",
    "sns.set_palette('husl')\n",
    "# ...existing code..."
   ]
  },
  {
   "cell_type": "code",
   "execution_count": null,
   "metadata": {},
   "outputs": [],
   "source": [
    "# ...existing code...\n",
    "# Set plot style\n",
    "sns.set_theme()\n",
    "sns.set_palette('husl')\n",
    "# ...existing code..."
   ]
  },
  {
   "cell_type": "code",
   "execution_count": null,
   "metadata": {},
   "outputs": [],
   "source": [
    "# ...existing code...\n",
    "# Set plot style\n",
    "sns.set_theme()\n",
    "sns.set_palette('husl')\n",
    "# ...existing code..."
   ]
  }
 ],
 "metadata": {
  "kernelspec": {
   "display_name": ".venv",
   "language": "python",
   "name": "python3"
  },
  "language_info": {
   "codemirror_mode": {
    "name": "ipython",
    "version": 3
   },
   "file_extension": ".py",
   "mimetype": "text/x-python",
   "name": "python",
   "nbconvert_exporter": "python",
   "pygments_lexer": "ipython3",
   "version": "3.11.1"
  }
 },
 "nbformat": 4,
 "nbformat_minor": 4
}
