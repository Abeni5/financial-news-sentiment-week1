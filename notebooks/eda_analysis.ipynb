{
 "cells": [
  {
   "cell_type": "markdown",
   "metadata": {},
   "source": [
    "# Financial News Sentiment Analysis - EDA\n",
    "\n",
    "## Task 1: Exploratory Data Analysis"
   ]
  },
  {
   "cell_type": "code",
   "execution_count": 10,
   "metadata": {},
   "outputs": [
    {
     "data": {
      "text/html": [
       "<div>\n",
       "<style scoped>\n",
       "    .dataframe tbody tr th:only-of-type {\n",
       "        vertical-align: middle;\n",
       "    }\n",
       "\n",
       "    .dataframe tbody tr th {\n",
       "        vertical-align: top;\n",
       "    }\n",
       "\n",
       "    .dataframe thead th {\n",
       "        text-align: right;\n",
       "    }\n",
       "</style>\n",
       "<table border=\"1\" class=\"dataframe\">\n",
       "  <thead>\n",
       "    <tr style=\"text-align: right;\">\n",
       "      <th></th>\n",
       "      <th>Date</th>\n",
       "      <th>Open</th>\n",
       "      <th>High</th>\n",
       "      <th>Low</th>\n",
       "      <th>Close</th>\n",
       "      <th>Adj Close</th>\n",
       "      <th>Volume</th>\n",
       "      <th>Dividends</th>\n",
       "      <th>Stock Splits</th>\n",
       "      <th>ticker</th>\n",
       "    </tr>\n",
       "  </thead>\n",
       "  <tbody>\n",
       "    <tr>\n",
       "      <th>0</th>\n",
       "      <td>1980-12-12</td>\n",
       "      <td>0.128348</td>\n",
       "      <td>0.128906</td>\n",
       "      <td>0.128348</td>\n",
       "      <td>0.128348</td>\n",
       "      <td>0.098943</td>\n",
       "      <td>469033600</td>\n",
       "      <td>0.0</td>\n",
       "      <td>0.0</td>\n",
       "      <td>AAPL</td>\n",
       "    </tr>\n",
       "    <tr>\n",
       "      <th>1</th>\n",
       "      <td>1980-12-15</td>\n",
       "      <td>0.122210</td>\n",
       "      <td>0.122210</td>\n",
       "      <td>0.121652</td>\n",
       "      <td>0.121652</td>\n",
       "      <td>0.093781</td>\n",
       "      <td>175884800</td>\n",
       "      <td>0.0</td>\n",
       "      <td>0.0</td>\n",
       "      <td>AAPL</td>\n",
       "    </tr>\n",
       "    <tr>\n",
       "      <th>2</th>\n",
       "      <td>1980-12-16</td>\n",
       "      <td>0.113281</td>\n",
       "      <td>0.113281</td>\n",
       "      <td>0.112723</td>\n",
       "      <td>0.112723</td>\n",
       "      <td>0.086898</td>\n",
       "      <td>105728000</td>\n",
       "      <td>0.0</td>\n",
       "      <td>0.0</td>\n",
       "      <td>AAPL</td>\n",
       "    </tr>\n",
       "    <tr>\n",
       "      <th>3</th>\n",
       "      <td>1980-12-17</td>\n",
       "      <td>0.115513</td>\n",
       "      <td>0.116071</td>\n",
       "      <td>0.115513</td>\n",
       "      <td>0.115513</td>\n",
       "      <td>0.089049</td>\n",
       "      <td>86441600</td>\n",
       "      <td>0.0</td>\n",
       "      <td>0.0</td>\n",
       "      <td>AAPL</td>\n",
       "    </tr>\n",
       "    <tr>\n",
       "      <th>4</th>\n",
       "      <td>1980-12-18</td>\n",
       "      <td>0.118862</td>\n",
       "      <td>0.119420</td>\n",
       "      <td>0.118862</td>\n",
       "      <td>0.118862</td>\n",
       "      <td>0.091630</td>\n",
       "      <td>73449600</td>\n",
       "      <td>0.0</td>\n",
       "      <td>0.0</td>\n",
       "      <td>AAPL</td>\n",
       "    </tr>\n",
       "  </tbody>\n",
       "</table>\n",
       "</div>"
      ],
      "text/plain": [
       "         Date      Open      High       Low     Close  Adj Close     Volume  \\\n",
       "0  1980-12-12  0.128348  0.128906  0.128348  0.128348   0.098943  469033600   \n",
       "1  1980-12-15  0.122210  0.122210  0.121652  0.121652   0.093781  175884800   \n",
       "2  1980-12-16  0.113281  0.113281  0.112723  0.112723   0.086898  105728000   \n",
       "3  1980-12-17  0.115513  0.116071  0.115513  0.115513   0.089049   86441600   \n",
       "4  1980-12-18  0.118862  0.119420  0.118862  0.118862   0.091630   73449600   \n",
       "\n",
       "   Dividends  Stock Splits ticker  \n",
       "0        0.0           0.0   AAPL  \n",
       "1        0.0           0.0   AAPL  \n",
       "2        0.0           0.0   AAPL  \n",
       "3        0.0           0.0   AAPL  \n",
       "4        0.0           0.0   AAPL  "
      ]
     },
     "execution_count": 10,
     "metadata": {},
     "output_type": "execute_result"
    }
   ],
   "source": [
    "import pandas as pd\n",
    "import numpy as np\n",
    "import matplotlib.pyplot as plt\n",
    "import seaborn as sns\n",
    "from datetime import datetime\n",
    "import nltk\n",
    "from nltk.corpus import stopwords\n",
    "from nltk.tokenize import word_tokenize\n",
    "from collections import Counter\n",
    "\n",
    "# Set plot style\n",
    "sns.set_theme()\n",
    "sns.set_palette('husl')\n",
    "\n",
    "# List of tickers and their file paths\n",
    "tickers = ['AAPL', 'AMZN', 'GOOG', 'NVDA', 'TSLA', 'META']\n",
    "file_paths = [\n",
    "     r'C:\\Users\\hp\\Downloads\\Telegram Desktop\\10Academy-Week1-FNSPID\\data\\AAPL_historical_data.csv',\n",
    "    r'C:\\Users\\hp\\Downloads\\Telegram Desktop\\10Academy-Week1-FNSPID\\data\\AMZN_historical_data.csv',\n",
    "    r'C:\\Users\\hp\\Downloads\\Telegram Desktop\\10Academy-Week1-FNSPID\\data\\GOOG_historical_data.csv',\n",
    "    r'C:\\Users\\hp\\Downloads\\Telegram Desktop\\10Academy-Week1-FNSPID\\data\\META_historical_data.csv',\n",
    "    r'C:\\Users\\hp\\Downloads\\Telegram Desktop\\10Academy-Week1-FNSPID\\data\\NVDA_historical_data.csv',\n",
    "    r'C:\\Users\\hp\\Downloads\\Telegram Desktop\\10Academy-Week1-FNSPID\\data\\TSLA_historical_data.csv'\n",
    "]\n",
    "\n",
    "# Combine all stock data into one DataFrame\n",
    "dfs = []\n",
    "for ticker, path in zip(tickers, file_paths):\n",
    "    temp_df = pd.read_csv(path)\n",
    "    temp_df['ticker'] = ticker\n",
    "    dfs.append(temp_df)\n",
    "\n",
    "df = pd.concat(dfs, ignore_index=True)\n",
    "\n",
    "# Analyst ratings\n",
    "Ddf = pd.read_csv('C:/Users/hp/Downloads/Telegram Desktop/10Academy-Week1-FNSPID/data/raw_analyst_ratings.csv')\n",
    "df.head()"
   ]
  },
  {
   "cell_type": "code",
   "execution_count": 12,
   "metadata": {},
   "outputs": [
    {
     "name": "stdout",
     "output_type": "stream",
     "text": [
      "<class 'pandas.core.frame.DataFrame'>\n",
      "RangeIndex: 35756 entries, 0 to 35755\n",
      "Data columns (total 10 columns):\n",
      " #   Column        Non-Null Count  Dtype  \n",
      "---  ------        --------------  -----  \n",
      " 0   Date          35756 non-null  object \n",
      " 1   Open          35756 non-null  float64\n",
      " 2   High          35756 non-null  float64\n",
      " 3   Low           35756 non-null  float64\n",
      " 4   Close         35756 non-null  float64\n",
      " 5   Adj Close     35756 non-null  float64\n",
      " 6   Volume        35756 non-null  int64  \n",
      " 7   Dividends     35756 non-null  float64\n",
      " 8   Stock Splits  35756 non-null  float64\n",
      " 9   ticker        35756 non-null  object \n",
      "dtypes: float64(7), int64(1), object(2)\n",
      "memory usage: 2.7+ MB\n"
     ]
    },
    {
     "data": {
      "text/plain": [
       "ticker\n",
       "AAPL    10998\n",
       "AMZN     6846\n",
       "TSLA     6421\n",
       "GOOG     5020\n",
       "META     3545\n",
       "NVDA     2926\n",
       "Name: count, dtype: int64"
      ]
     },
     "execution_count": 12,
     "metadata": {},
     "output_type": "execute_result"
    }
   ],
   "source": [
    "df.info()\n",
    "df.head()\n",
    "df['ticker'].value_counts()"
   ]
  },
  {
   "cell_type": "code",
   "execution_count": 20,
   "metadata": {},
   "outputs": [],
   "source": [
    "plt.style.use('seaborn-v0_8')"
   ]
  },
  {
   "cell_type": "code",
   "execution_count": 21,
   "metadata": {},
   "outputs": [],
   "source": [
    "sns.set_theme()"
   ]
  },
  {
   "cell_type": "code",
   "execution_count": 22,
   "metadata": {},
   "outputs": [],
   "source": [
    "# ...existing code...\n",
    "# Set plot style\n",
    "sns.set_theme()\n",
    "sns.set_palette('husl')\n",
    "# ...existing code..."
   ]
  },
  {
   "cell_type": "code",
   "execution_count": 23,
   "metadata": {},
   "outputs": [],
   "source": [
    "# ...existing code...\n",
    "# Set plot style\n",
    "sns.set_theme()\n",
    "sns.set_palette('husl')\n",
    "# ...existing code..."
   ]
  },
  {
   "cell_type": "code",
   "execution_count": 24,
   "metadata": {},
   "outputs": [],
   "source": [
    "# ...existing code...\n",
    "# Set plot style\n",
    "sns.set_theme()\n",
    "sns.set_palette('husl')\n",
    "# ...existing code..."
   ]
  }
 ],
 "metadata": {
  "kernelspec": {
   "display_name": ".venv",
   "language": "python",
   "name": "python3"
  },
  "language_info": {
   "codemirror_mode": {
    "name": "ipython",
    "version": 3
   },
   "file_extension": ".py",
   "mimetype": "text/x-python",
   "name": "python",
   "nbconvert_exporter": "python",
   "pygments_lexer": "ipython3",
   "version": "3.11.1"
  }
 },
 "nbformat": 4,
 "nbformat_minor": 4
}
